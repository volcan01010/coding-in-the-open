{
 "cells": [
  {
   "cell_type": "code",
   "execution_count": 79,
   "id": "premier-david",
   "metadata": {},
   "outputs": [],
   "source": [
    "from collections import namedtuple\n",
    "import matplotlib\n",
    "import matplotlib.pyplot as plt\n",
    "from matplotlib.ticker import FixedLocator\n",
    "\n",
    "%matplotlib inline\n",
    "plt.style.use('ggplot')\n",
    "\n",
    "matplotlib.rcParams.update({'font.size': 16})\n",
    "matplotlib.rcParams.update({'figure.autolayout': True})  # Makes bounding box adjust for big text"
   ]
  },
  {
   "cell_type": "code",
   "execution_count": 84,
   "id": "assumed-washington",
   "metadata": {},
   "outputs": [],
   "source": [
    "def setup_axes():\n",
    "    \"\"\"Prepare blank axes\"\"\"\n",
    "    # Create figure\n",
    "    fig, ax = plt.subplots(1, 1, figsize=(9, 7))\n",
    "    plt.xlim(0, 6)\n",
    "    plt.ylim(0, 6)\n",
    "    plt.xlabel(\"Coding (Reproducibility) \\u2192\")\n",
    "    plt.ylabel(\"Openness (Portability) \\u2192\")\n",
    "\n",
    "    # Add grid to break up regions\n",
    "    plt.xticks(ticks=(1, 3, 5), labels=(\n",
    "        \"Writes reports\",\n",
    "        \"Research software\\nengineer\",\n",
    "        \"Writes code\"))\n",
    "    plt.yticks(ticks=(1, 3, 5), labels=(\n",
    "        \"Proprietary\\ntools\",\n",
    "        \"Open source\\ninternal code\",\n",
    "        \"Open source\\nopen code\"))\n",
    "\n",
    "    # Add grid to break up regions\n",
    "    ax.xaxis.set_minor_locator(FixedLocator((2, 4)))\n",
    "    ax.yaxis.set_minor_locator(FixedLocator((2, 4)))\n",
    "    plt.grid(b=True, which=\"minor\")\n",
    "    plt.grid(b=False, which=\"major\")\n",
    "    \n",
    "    return fig, ax"
   ]
  },
  {
   "cell_type": "code",
   "execution_count": 85,
   "id": "selective-submission",
   "metadata": {},
   "outputs": [],
   "source": [
    "fig, ax = setup_axes()\n",
    "plt.annotate(\"'Coding In\\nThe Open'\\nblog post\", xy=(5, 5), xytext=(5, 2.6),\n",
    "             arrowprops=dict(facecolor='black', shrink=0.05),\n",
    "             va='center', ha='center')\n",
    "plt.savefig(f\"../docs/images/open_code_has_two_dimensions_0.svg\")\n",
    "plt.close()"
   ]
  },
  {
   "cell_type": "code",
   "execution_count": 86,
   "id": "royal-adolescent",
   "metadata": {},
   "outputs": [],
   "source": [
    "# Define text labels\n",
    "TextItem = namedtuple('TextItem', 'x, y, text')\n",
    "\n",
    "TEXT_ITEMS = (\n",
    "    TextItem(1, 1, \"\\u2022 MS Excel\\n\\u2022 ArcGIS\\n\\u2022 ER Studio\"),\n",
    "    TextItem(3, 1, \"\\u2022 ArcPy\\n\\u2022 Matlab\\n\\u2022 IDL\"),\n",
    "    TextItem(5, 1, \"\\u2022 Cold Fusion\\n\\u2022 Oracle\"),\n",
    "    TextItem(1, 3, \"\\u2022 LibreOffice\\n\\u2022 QGIS\\n PostgreSQL\"),\n",
    "    TextItem(3, 3, \"\\u2022 GeoPandas\\n\\u2022 Numpy\\n\\u2022 R\"),\n",
    "    TextItem(5, 3, \"\\u2022 SensorThingsAPI\\n\\u2022 OGC Features\\n\\u2022 EPOS\"),\n",
    "    TextItem(1, 5, \"\\u2022 QGIS geotagged\\nphotos\"),\n",
    "    TextItem(3, 5, \"\\u2022 DISOLV\\n\\u2022 Geo NER model\"),\n",
    "    TextItem(5, 5, \"\\u2022 ETL Helper\\n\\u2022 Stratigraph\")\n",
    ")"
   ]
  },
  {
   "cell_type": "code",
   "execution_count": 87,
   "id": "formed-protein",
   "metadata": {},
   "outputs": [],
   "source": [
    "for i, item_count in enumerate((3, 6, 9)):\n",
    "    fig, ax = setup_axes()\n",
    "    for item in TEXT_ITEMS[:item_count]:\n",
    "        plt.text(item.x, item.y, item.text, va=\"center\", ha=\"center\")\n",
    "    plt.savefig(f\"../docs/images/open_code_has_two_dimensions_{i + 1}.svg\")\n",
    "    plt.close()"
   ]
  },
  {
   "cell_type": "code",
   "execution_count": null,
   "id": "final-austin",
   "metadata": {},
   "outputs": [],
   "source": []
  }
 ],
 "metadata": {
  "kernelspec": {
   "display_name": "Python 3",
   "language": "python",
   "name": "python3"
  },
  "language_info": {
   "codemirror_mode": {
    "name": "ipython",
    "version": 3
   },
   "file_extension": ".py",
   "mimetype": "text/x-python",
   "name": "python",
   "nbconvert_exporter": "python",
   "pygments_lexer": "ipython3",
   "version": "3.8.5"
  }
 },
 "nbformat": 4,
 "nbformat_minor": 5
}
